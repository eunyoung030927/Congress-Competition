{
 "cells": [
  {
   "cell_type": "code",
   "execution_count": 6,
   "metadata": {},
   "outputs": [
    {
     "name": "stdout",
     "output_type": "stream",
     "text": [
      "b'<?xml version=\"1.0\" encoding=\"UTF-8\" standalone=\"yes\"?><response><header><resultCode>00</resultCode><resultMsg>NORMAL SERVICE.</resultMsg></header><body><items><item><commName>\\xea\\xb5\\xad\\xed\\x9a\\x8c\\xeb\\xb3\\xb8\\xed\\x9a\\x8c\\xec\\x9d\\x98</commName><confDate>20231109</confDate><conferNum>053391</conferNum><daeDisp>\\xec\\xa0\\x9c21\\xeb\\x8c\\x80\\xea\\xb5\\xad\\xed\\x9a\\x8c</daeDisp><degreeNum>\\xec\\xa0\\x9c11\\xec\\xb0\\xa8</degreeNum><hwpLink>http://likms.assembly.go.kr/record/mhs-10-040-0040.do?conferNum=053391&amp;fileType=hwp</hwpLink><pdfLink>http://likms.assembly.go.kr/record/mhs-10-040-0040.do?conferNum=053391&amp;fileType=PDF</pdfLink><sesNum>\\xec\\xa0\\x9c410\\xed\\x9a\\x8c</sesNum><summary>http://likms.assembly.go.kr/record/mhs-10-030.do?conferNum=053391</summary><vodLink>http://w3.assembly.go.kr/jsp/vod/vod.do?cmd=vod&amp;mc=10&amp;ct1=21&amp;ct2=410&amp;ct3=11</vodLink></item><item><commName>\\xea\\xb5\\xad\\xed\\x9a\\x8c\\xeb\\xb3\\xb8\\xed\\x9a\\x8c\\xec\\x9d\\x98</commName><confDate>20231031</confDate><conferNum>053341</conferNum><daeDisp>\\xec\\xa0\\x9c21\\xeb\\x8c\\x80\\xea\\xb5\\xad\\xed\\x9a\\x8c</daeDisp><degreeNum>\\xec\\xa0\\x9c10\\xec\\xb0\\xa8</degreeNum><hwpLink>http://likms.assembly.go.kr/record/mhs-10-040-0040.do?conferNum=053341&amp;fileType=hwp</hwpLink><pdfLink>http://likms.assembly.go.kr/record/mhs-10-040-0040.do?conferNum=053341&amp;fileType=PDF</pdfLink><sesNum>\\xec\\xa0\\x9c410\\xed\\x9a\\x8c</sesNum><summary>http://likms.assembly.go.kr/record/mhs-10-030.do?conferNum=053341</summary><vodLink>http://w3.assembly.go.kr/jsp/vod/vod.do?cmd=vod&amp;mc=10&amp;ct1=21&amp;ct2=410&amp;ct3=10</vodLink></item><item><commName>\\xea\\xb5\\xad\\xed\\x9a\\x8c\\xeb\\xb3\\xb8\\xed\\x9a\\x8c\\xec\\x9d\\x98</commName><confDate>20231006</confDate><conferNum>053287</conferNum><daeDisp>\\xec\\xa0\\x9c21\\xeb\\x8c\\x80\\xea\\xb5\\xad\\xed\\x9a\\x8c</daeDisp><degreeNum>\\xec\\xa0\\x9c9\\xec\\xb0\\xa8</degreeNum><hwpLink>http://likms.assembly.go.kr/record/mhs-10-040-0040.do?conferNum=053287&amp;fileType=hwp</hwpLink><pdfLink>http://likms.assembly.go.kr/record/mhs-10-040-0040.do?conferNum=053287&amp;fileType=PDF</pdfLink><sesNum>\\xec\\xa0\\x9c410\\xed\\x9a\\x8c</sesNum><summary>http://likms.assembly.go.kr/record/mhs-10-030.do?conferNum=053287</summary><vodLink>http://w3.assembly.go.kr/jsp/vod/vod.do?cmd=vod&amp;mc=10&amp;ct1=21&amp;ct2=410&amp;ct3=09</vodLink></item><item><commName>\\xea\\xb5\\xad\\xed\\x9a\\x8c\\xeb\\xb3\\xb8\\xed\\x9a\\x8c\\xec\\x9d\\x98</commName><confDate>20230921</confDate><conferNum>053247</conferNum><daeDisp>\\xec\\xa0\\x9c21\\xeb\\x8c\\x80\\xea\\xb5\\xad\\xed\\x9a\\x8c</daeDisp><degreeNum>\\xec\\xa0\\x9c8\\xec\\xb0\\xa8</degreeNum><hwpLink>http://likms.assembly.go.kr/record/mhs-10-040-0040.do?conferNum=053247&amp;fileType=hwp</hwpLink><pdfLink>http://likms.assembly.go.kr/record/mhs-10-040-0040.do?conferNum=053247&amp;fileType=PDF</pdfLink><sesNum>\\xec\\xa0\\x9c410\\xed\\x9a\\x8c</sesNum><summary>http://likms.assembly.go.kr/record/mhs-10-030.do?conferNum=053247</summary><vodLink>http://w3.assembly.go.kr/jsp/vod/vod.do?cmd=vod&amp;mc=10&amp;ct1=21&amp;ct2=410&amp;ct3=08</vodLink></item><item><commName>\\xea\\xb5\\xad\\xed\\x9a\\x8c\\xeb\\xb3\\xb8\\xed\\x9a\\x8c\\xec\\x9d\\x98</commName><confDate>20230920</confDate><conferNum>053233</conferNum><daeDisp>\\xec\\xa0\\x9c21\\xeb\\x8c\\x80\\xea\\xb5\\xad\\xed\\x9a\\x8c</daeDisp><degreeNum>\\xec\\xa0\\x9c7\\xec\\xb0\\xa8</degreeNum><hwpLink>http://likms.assembly.go.kr/record/mhs-10-040-0040.do?conferNum=053233&amp;fileType=hwp</hwpLink><pdfLink>http://likms.assembly.go.kr/record/mhs-10-040-0040.do?conferNum=053233&amp;fileType=PDF</pdfLink><sesNum>\\xec\\xa0\\x9c410\\xed\\x9a\\x8c</sesNum><summary>http://likms.assembly.go.kr/record/mhs-10-030.do?conferNum=053233</summary><vodLink>http://w3.assembly.go.kr/jsp/vod/vod.do?cmd=vod&amp;mc=10&amp;ct1=21&amp;ct2=410&amp;ct3=07</vodLink></item><item><commName>\\xea\\xb5\\xad\\xed\\x9a\\x8c\\xeb\\xb3\\xb8\\xed\\x9a\\x8c\\xec\\x9d\\x98</commName><confDate>20230918</confDate><conferNum>053224</conferNum><daeDisp>\\xec\\xa0\\x9c21\\xeb\\x8c\\x80\\xea\\xb5\\xad\\xed\\x9a\\x8c</daeDisp><degreeNum>\\xec\\xa0\\x9c6\\xec\\xb0\\xa8</degreeNum><hwpLink>http://likms.assembly.go.kr/record/mhs-10-040-0040.do?conferNum=053224&amp;fileType=hwp</hwpLink><pdfLink>http://likms.assembly.go.kr/record/mhs-10-040-0040.do?conferNum=053224&amp;fileType=PDF</pdfLink><sesNum>\\xec\\xa0\\x9c410\\xed\\x9a\\x8c</sesNum><summary>http://likms.assembly.go.kr/record/mhs-10-030.do?conferNum=053224</summary><vodLink>http://w3.assembly.go.kr/jsp/vod/vod.do?cmd=vod&amp;mc=10&amp;ct1=21&amp;ct2=410&amp;ct3=06</vodLink></item><item><commName>\\xea\\xb5\\xad\\xed\\x9a\\x8c\\xeb\\xb3\\xb8\\xed\\x9a\\x8c\\xec\\x9d\\x98</commName><confDate>20230908</confDate><conferNum>053206</conferNum><daeDisp>\\xec\\xa0\\x9c21\\xeb\\x8c\\x80\\xea\\xb5\\xad\\xed\\x9a\\x8c</daeDisp><degreeNum>\\xec\\xa0\\x9c5\\xec\\xb0\\xa8</degreeNum><hwpLink>http://likms.assembly.go.kr/record/mhs-10-040-0040.do?conferNum=053206&amp;fileType=hwp</hwpLink><pdfLink>http://likms.assembly.go.kr/record/mhs-10-040-0040.do?conferNum=053206&amp;fileType=PDF</pdfLink><sesNum>\\xec\\xa0\\x9c410\\xed\\x9a\\x8c</sesNum><summary>http://likms.assembly.go.kr/record/mhs-10-030.do?conferNum=053206</summary><vodLink>http://w3.assembly.go.kr/jsp/vod/vod.do?cmd=vod&amp;mc=10&amp;ct1=21&amp;ct2=410&amp;ct3=05</vodLink></item><item><commName>\\xea\\xb5\\xad\\xed\\x9a\\x8c\\xeb\\xb3\\xb8\\xed\\x9a\\x8c\\xec\\x9d\\x98</commName><confDate>20230907</confDate><conferNum>053201</conferNum><daeDisp>\\xec\\xa0\\x9c21\\xeb\\x8c\\x80\\xea\\xb5\\xad\\xed\\x9a\\x8c</daeDisp><degreeNum>\\xec\\xa0\\x9c4\\xec\\xb0\\xa8</degreeNum><hwpLink>http://likms.assembly.go.kr/record/mhs-10-040-0040.do?conferNum=053201&amp;fileType=hwp</hwpLink><pdfLink>http://likms.assembly.go.kr/record/mhs-10-040-0040.do?conferNum=053201&amp;fileType=PDF</pdfLink><sesNum>\\xec\\xa0\\x9c410\\xed\\x9a\\x8c</sesNum><summary>http://likms.assembly.go.kr/record/mhs-10-030.do?conferNum=053201</summary><vodLink>http://w3.assembly.go.kr/jsp/vod/vod.do?cmd=vod&amp;mc=10&amp;ct1=21&amp;ct2=410&amp;ct3=04</vodLink></item><item><commName>\\xea\\xb5\\xad\\xed\\x9a\\x8c\\xeb\\xb3\\xb8\\xed\\x9a\\x8c\\xec\\x9d\\x98</commName><confDate>20230906</confDate><conferNum>053194</conferNum><daeDisp>\\xec\\xa0\\x9c21\\xeb\\x8c\\x80\\xea\\xb5\\xad\\xed\\x9a\\x8c</daeDisp><degreeNum>\\xec\\xa0\\x9c3\\xec\\xb0\\xa8</degreeNum><hwpLink>http://likms.assembly.go.kr/record/mhs-10-040-0040.do?conferNum=053194&amp;fileType=hwp</hwpLink><pdfLink>http://likms.assembly.go.kr/record/mhs-10-040-0040.do?conferNum=053194&amp;fileType=PDF</pdfLink><sesNum>\\xec\\xa0\\x9c410\\xed\\x9a\\x8c</sesNum><summary>http://likms.assembly.go.kr/record/mhs-10-030.do?conferNum=053194</summary><vodLink>http://w3.assembly.go.kr/jsp/vod/vod.do?cmd=vod&amp;mc=10&amp;ct1=21&amp;ct2=410&amp;ct3=03</vodLink></item><item><commName>\\xea\\xb5\\xad\\xed\\x9a\\x8c\\xeb\\xb3\\xb8\\xed\\x9a\\x8c\\xec\\x9d\\x98</commName><confDate>20230905</confDate><conferNum>053184</conferNum><daeDisp>\\xec\\xa0\\x9c21\\xeb\\x8c\\x80\\xea\\xb5\\xad\\xed\\x9a\\x8c</daeDisp><degreeNum>\\xec\\xa0\\x9c2\\xec\\xb0\\xa8</degreeNum><hwpLink>http://likms.assembly.go.kr/record/mhs-10-040-0040.do?conferNum=053184&amp;fileType=hwp</hwpLink><pdfLink>http://likms.assembly.go.kr/record/mhs-10-040-0040.do?conferNum=053184&amp;fileType=PDF</pdfLink><sesNum>\\xec\\xa0\\x9c410\\xed\\x9a\\x8c</sesNum><summary>http://likms.assembly.go.kr/record/mhs-10-030.do?conferNum=053184</summary><vodLink>http://w3.assembly.go.kr/jsp/vod/vod.do?cmd=vod&amp;mc=10&amp;ct1=21&amp;ct2=410&amp;ct3=02</vodLink></item></items><numOfRows>10</numOfRows><pageNo>1</pageNo><totalCount>23</totalCount></body></response>'\n"
     ]
    }
   ],
   "source": [
    "import requests\n",
    "\n",
    "url = 'http://apis.data.go.kr/9710000/ProceedingInfoService/getLatestConInfoList'\n",
    "params ={'serviceKey' : '', 'numOfRows' : '10', 'pageNo' : '1', 'class_code' : '1', 'commCode' : '' }\n",
    "\n",
    "response = requests.get(url, params=params)\n",
    "print(response.content)"
   ]
  },
  {
   "cell_type": "code",
   "execution_count": null,
   "metadata": {},
   "outputs": [],
   "source": [
    "import requests\n",
    "\n",
    "url = 'http://apis.data.go.kr/9710000/NationalAssemblyInfoService/getMemberCurrStateList'\n",
    "params ={'serviceKey' : '', 'numOfRows' : '10', 'pageNo' : '1' }\n",
    "\n",
    "response = requests.get(url, params=params)\n",
    "print(response.content)"
   ]
  },
  {
   "cell_type": "code",
   "execution_count": null,
   "metadata": {},
   "outputs": [],
   "source": [
    "import requests\n",
    "\n",
    "url = 'http://apis.data.go.kr/9735000/PublicationService/getResearchReportList'\n",
    "params ={'serviceKey' : '', 'pageNo' : '1', 'numOfRows' : '10', 'resultType' : 'xml', 'div_cd' : '201010000', 'book_nm' : '「소년법」 개정 논의의 쟁점' }\n",
    "\n",
    "response = requests.get(url, params=params)\n",
    "print(response.content)"
   ]
  }
 ],
 "metadata": {
  "kernelspec": {
   "display_name": "base",
   "language": "python",
   "name": "python3"
  },
  "language_info": {
   "codemirror_mode": {
    "name": "ipython",
    "version": 3
   },
   "file_extension": ".py",
   "mimetype": "text/x-python",
   "name": "python",
   "nbconvert_exporter": "python",
   "pygments_lexer": "ipython3",
   "version": "3.11.4"
  },
  "orig_nbformat": 4
 },
 "nbformat": 4,
 "nbformat_minor": 2
}
