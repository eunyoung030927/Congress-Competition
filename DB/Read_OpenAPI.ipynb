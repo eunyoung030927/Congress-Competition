{
 "cells": [
  {
   "cell_type": "code",
   "execution_count": 2,
   "metadata": {},
   "outputs": [
    {
     "name": "stdout",
     "output_type": "stream",
     "text": [
      "b'<?xml version=\"1.0\" encoding=\"UTF-8\" standalone=\"yes\"?><response><header><resultCode>00</resultCode><resultMsg>NORMAL SERVICE.</resultMsg></header><body><items><item><commName>\\xea\\xb5\\xad\\xed\\x9a\\x8c\\xeb\\xb3\\xb8\\xed\\x9a\\x8c\\xec\\x9d\\x98</commName><confDate>20231109</confDate><conferNum>053391</conferNum><daeDisp>\\xec\\xa0\\x9c21\\xeb\\x8c\\x80\\xea\\xb5\\xad\\xed\\x9a\\x8c</daeDisp><degreeNum>\\xec\\xa0\\x9c11\\xec\\xb0\\xa8</degreeNum><hwpLink>http://likms.assembly.go.kr/record/mhs-10-040-0040.do?conferNum=053391&amp;fileType=hwp</hwpLink><pdfLink>http://likms.assembly.go.kr/record/mhs-10-040-0040.do?conferNum=053391&amp;fileType=PDF</pdfLink><sesNum>\\xec\\xa0\\x9c410\\xed\\x9a\\x8c</sesNum><summary>http://likms.assembly.go.kr/record/mhs-10-030.do?conferNum=053391</summary><vodLink>http://w3.assembly.go.kr/jsp/vod/vod.do?cmd=vod&amp;mc=10&amp;ct1=21&amp;ct2=410&amp;ct3=11</vodLink></item><item><commName>\\xea\\xb5\\xad\\xed\\x9a\\x8c\\xeb\\xb3\\xb8\\xed\\x9a\\x8c\\xec\\x9d\\x98</commName><confDate>20231031</confDate><conferNum>053341</conferNum><daeDisp>\\xec\\xa0\\x9c21\\xeb\\x8c\\x80\\xea\\xb5\\xad\\xed\\x9a\\x8c</daeDisp><degreeNum>\\xec\\xa0\\x9c10\\xec\\xb0\\xa8</degreeNum><hwpLink>http://likms.assembly.go.kr/record/mhs-10-040-0040.do?conferNum=053341&amp;fileType=hwp</hwpLink><pdfLink>http://likms.assembly.go.kr/record/mhs-10-040-0040.do?conferNum=053341&amp;fileType=PDF</pdfLink><sesNum>\\xec\\xa0\\x9c410\\xed\\x9a\\x8c</sesNum><summary>http://likms.assembly.go.kr/record/mhs-10-030.do?conferNum=053341</summary><vodLink>http://w3.assembly.go.kr/jsp/vod/vod.do?cmd=vod&amp;mc=10&amp;ct1=21&amp;ct2=410&amp;ct3=10</vodLink></item><item><commName>\\xea\\xb5\\xad\\xed\\x9a\\x8c\\xeb\\xb3\\xb8\\xed\\x9a\\x8c\\xec\\x9d\\x98</commName><confDate>20231006</confDate><conferNum>053287</conferNum><daeDisp>\\xec\\xa0\\x9c21\\xeb\\x8c\\x80\\xea\\xb5\\xad\\xed\\x9a\\x8c</daeDisp><degreeNum>\\xec\\xa0\\x9c9\\xec\\xb0\\xa8</degreeNum><hwpLink>http://likms.assembly.go.kr/record/mhs-10-040-0040.do?conferNum=053287&amp;fileType=hwp</hwpLink><pdfLink>http://likms.assembly.go.kr/record/mhs-10-040-0040.do?conferNum=053287&amp;fileType=PDF</pdfLink><sesNum>\\xec\\xa0\\x9c410\\xed\\x9a\\x8c</sesNum><summary>http://likms.assembly.go.kr/record/mhs-10-030.do?conferNum=053287</summary><vodLink>http://w3.assembly.go.kr/jsp/vod/vod.do?cmd=vod&amp;mc=10&amp;ct1=21&amp;ct2=410&amp;ct3=09</vodLink></item><item><commName>\\xea\\xb5\\xad\\xed\\x9a\\x8c\\xeb\\xb3\\xb8\\xed\\x9a\\x8c\\xec\\x9d\\x98</commName><confDate>20230921</confDate><conferNum>053247</conferNum><daeDisp>\\xec\\xa0\\x9c21\\xeb\\x8c\\x80\\xea\\xb5\\xad\\xed\\x9a\\x8c</daeDisp><degreeNum>\\xec\\xa0\\x9c8\\xec\\xb0\\xa8</degreeNum><hwpLink>http://likms.assembly.go.kr/record/mhs-10-040-0040.do?conferNum=053247&amp;fileType=hwp</hwpLink><pdfLink>http://likms.assembly.go.kr/record/mhs-10-040-0040.do?conferNum=053247&amp;fileType=PDF</pdfLink><sesNum>\\xec\\xa0\\x9c410\\xed\\x9a\\x8c</sesNum><summary>http://likms.assembly.go.kr/record/mhs-10-030.do?conferNum=053247</summary><vodLink>http://w3.assembly.go.kr/jsp/vod/vod.do?cmd=vod&amp;mc=10&amp;ct1=21&amp;ct2=410&amp;ct3=08</vodLink></item><item><commName>\\xea\\xb5\\xad\\xed\\x9a\\x8c\\xeb\\xb3\\xb8\\xed\\x9a\\x8c\\xec\\x9d\\x98</commName><confDate>20230920</confDate><conferNum>053233</conferNum><daeDisp>\\xec\\xa0\\x9c21\\xeb\\x8c\\x80\\xea\\xb5\\xad\\xed\\x9a\\x8c</daeDisp><degreeNum>\\xec\\xa0\\x9c7\\xec\\xb0\\xa8</degreeNum><hwpLink>http://likms.assembly.go.kr/record/mhs-10-040-0040.do?conferNum=053233&amp;fileType=hwp</hwpLink><pdfLink>http://likms.assembly.go.kr/record/mhs-10-040-0040.do?conferNum=053233&amp;fileType=PDF</pdfLink><sesNum>\\xec\\xa0\\x9c410\\xed\\x9a\\x8c</sesNum><summary>http://likms.assembly.go.kr/record/mhs-10-030.do?conferNum=053233</summary><vodLink>http://w3.assembly.go.kr/jsp/vod/vod.do?cmd=vod&amp;mc=10&amp;ct1=21&amp;ct2=410&amp;ct3=07</vodLink></item><item><commName>\\xea\\xb5\\xad\\xed\\x9a\\x8c\\xeb\\xb3\\xb8\\xed\\x9a\\x8c\\xec\\x9d\\x98</commName><confDate>20230918</confDate><conferNum>053224</conferNum><daeDisp>\\xec\\xa0\\x9c21\\xeb\\x8c\\x80\\xea\\xb5\\xad\\xed\\x9a\\x8c</daeDisp><degreeNum>\\xec\\xa0\\x9c6\\xec\\xb0\\xa8</degreeNum><hwpLink>http://likms.assembly.go.kr/record/mhs-10-040-0040.do?conferNum=053224&amp;fileType=hwp</hwpLink><pdfLink>http://likms.assembly.go.kr/record/mhs-10-040-0040.do?conferNum=053224&amp;fileType=PDF</pdfLink><sesNum>\\xec\\xa0\\x9c410\\xed\\x9a\\x8c</sesNum><summary>http://likms.assembly.go.kr/record/mhs-10-030.do?conferNum=053224</summary><vodLink>http://w3.assembly.go.kr/jsp/vod/vod.do?cmd=vod&amp;mc=10&amp;ct1=21&amp;ct2=410&amp;ct3=06</vodLink></item><item><commName>\\xea\\xb5\\xad\\xed\\x9a\\x8c\\xeb\\xb3\\xb8\\xed\\x9a\\x8c\\xec\\x9d\\x98</commName><confDate>20230908</confDate><conferNum>053206</conferNum><daeDisp>\\xec\\xa0\\x9c21\\xeb\\x8c\\x80\\xea\\xb5\\xad\\xed\\x9a\\x8c</daeDisp><degreeNum>\\xec\\xa0\\x9c5\\xec\\xb0\\xa8</degreeNum><hwpLink>http://likms.assembly.go.kr/record/mhs-10-040-0040.do?conferNum=053206&amp;fileType=hwp</hwpLink><pdfLink>http://likms.assembly.go.kr/record/mhs-10-040-0040.do?conferNum=053206&amp;fileType=PDF</pdfLink><sesNum>\\xec\\xa0\\x9c410\\xed\\x9a\\x8c</sesNum><summary>http://likms.assembly.go.kr/record/mhs-10-030.do?conferNum=053206</summary><vodLink>http://w3.assembly.go.kr/jsp/vod/vod.do?cmd=vod&amp;mc=10&amp;ct1=21&amp;ct2=410&amp;ct3=05</vodLink></item><item><commName>\\xea\\xb5\\xad\\xed\\x9a\\x8c\\xeb\\xb3\\xb8\\xed\\x9a\\x8c\\xec\\x9d\\x98</commName><confDate>20230907</confDate><conferNum>053201</conferNum><daeDisp>\\xec\\xa0\\x9c21\\xeb\\x8c\\x80\\xea\\xb5\\xad\\xed\\x9a\\x8c</daeDisp><degreeNum>\\xec\\xa0\\x9c4\\xec\\xb0\\xa8</degreeNum><hwpLink>http://likms.assembly.go.kr/record/mhs-10-040-0040.do?conferNum=053201&amp;fileType=hwp</hwpLink><pdfLink>http://likms.assembly.go.kr/record/mhs-10-040-0040.do?conferNum=053201&amp;fileType=PDF</pdfLink><sesNum>\\xec\\xa0\\x9c410\\xed\\x9a\\x8c</sesNum><summary>http://likms.assembly.go.kr/record/mhs-10-030.do?conferNum=053201</summary><vodLink>http://w3.assembly.go.kr/jsp/vod/vod.do?cmd=vod&amp;mc=10&amp;ct1=21&amp;ct2=410&amp;ct3=04</vodLink></item><item><commName>\\xea\\xb5\\xad\\xed\\x9a\\x8c\\xeb\\xb3\\xb8\\xed\\x9a\\x8c\\xec\\x9d\\x98</commName><confDate>20230906</confDate><conferNum>053194</conferNum><daeDisp>\\xec\\xa0\\x9c21\\xeb\\x8c\\x80\\xea\\xb5\\xad\\xed\\x9a\\x8c</daeDisp><degreeNum>\\xec\\xa0\\x9c3\\xec\\xb0\\xa8</degreeNum><hwpLink>http://likms.assembly.go.kr/record/mhs-10-040-0040.do?conferNum=053194&amp;fileType=hwp</hwpLink><pdfLink>http://likms.assembly.go.kr/record/mhs-10-040-0040.do?conferNum=053194&amp;fileType=PDF</pdfLink><sesNum>\\xec\\xa0\\x9c410\\xed\\x9a\\x8c</sesNum><summary>http://likms.assembly.go.kr/record/mhs-10-030.do?conferNum=053194</summary><vodLink>http://w3.assembly.go.kr/jsp/vod/vod.do?cmd=vod&amp;mc=10&amp;ct1=21&amp;ct2=410&amp;ct3=03</vodLink></item><item><commName>\\xea\\xb5\\xad\\xed\\x9a\\x8c\\xeb\\xb3\\xb8\\xed\\x9a\\x8c\\xec\\x9d\\x98</commName><confDate>20230905</confDate><conferNum>053184</conferNum><daeDisp>\\xec\\xa0\\x9c21\\xeb\\x8c\\x80\\xea\\xb5\\xad\\xed\\x9a\\x8c</daeDisp><degreeNum>\\xec\\xa0\\x9c2\\xec\\xb0\\xa8</degreeNum><hwpLink>http://likms.assembly.go.kr/record/mhs-10-040-0040.do?conferNum=053184&amp;fileType=hwp</hwpLink><pdfLink>http://likms.assembly.go.kr/record/mhs-10-040-0040.do?conferNum=053184&amp;fileType=PDF</pdfLink><sesNum>\\xec\\xa0\\x9c410\\xed\\x9a\\x8c</sesNum><summary>http://likms.assembly.go.kr/record/mhs-10-030.do?conferNum=053184</summary><vodLink>http://w3.assembly.go.kr/jsp/vod/vod.do?cmd=vod&amp;mc=10&amp;ct1=21&amp;ct2=410&amp;ct3=02</vodLink></item></items><numOfRows>10</numOfRows><pageNo>1</pageNo><totalCount>23</totalCount></body></response>'\n"
     ]
    }
   ],
   "source": [
    "import requests\n",
    "\n",
    "url = 'http://apis.data.go.kr/9710000/ProceedingInfoService/getLatestConInfoList'\n",
    "params ={'serviceKey' : 'UIEfJyc7xXieHfPlhZYVRXCZfP/mQUHaqTH71twI8cyJ/DHHJoOIGN9QitgmjD93PmldgHYnxvNd5H6kyU+jiw==', 'numOfRows' : '10', 'pageNo' : '1', 'class_code' : '1', 'commCode' : '' }\n",
    "\n",
    "response = requests.get(url, params=params)\n",
    "print(response.content)"
   ]
  },
  {
   "cell_type": "code",
   "execution_count": 3,
   "metadata": {},
   "outputs": [
    {
     "name": "stdout",
     "output_type": "stream",
     "text": [
      "b'<?xml version=\"1.0\" encoding=\"UTF-8\" standalone=\"yes\"?><response><header><resultCode>00</resultCode><resultMsg>NORMAL SERVICE.</resultMsg></header><body><items><item><deptCd>9771230</deptCd><empNm>\\xea\\xb0\\x95\\xea\\xb8\\xb0\\xec\\x9c\\xa4</empNm><engNm>KANG GIYUN</engNm><hjNm>\\xe5\\xa7\\x9c\\xe8\\xb5\\xb7\\xe6\\xbd\\xa4</hjNm><jpgLink>http://www.assembly.go.kr/photo/9771230.jpg</jpgLink><num>2685</num><origNm>\\xea\\xb2\\xbd\\xeb\\x82\\xa8 \\xec\\xb0\\xbd\\xec\\x9b\\x90\\xec\\x8b\\x9c\\xec\\x84\\xb1\\xec\\x82\\xb0\\xea\\xb5\\xac</origNm><reeleGbnNm>\\xec\\x9e\\xac\\xec\\x84\\xa0</reeleGbnNm></item><item><deptCd>9771142</deptCd><empNm>\\xea\\xb0\\x95\\xeb\\x8c\\x80\\xec\\x8b\\x9d</empNm><engNm>KANG DAESIK</engNm><hjNm>\\xe5\\xa7\\x9c\\xe5\\xa4\\xa7\\xe6\\xa4\\x8d</hjNm><jpgLink>http://www.assembly.go.kr/photo/9771142.jpg</jpgLink><num>3057</num><origNm>\\xeb\\x8c\\x80\\xea\\xb5\\xac \\xeb\\x8f\\x99\\xea\\xb5\\xac\\xec\\x9d\\x84</origNm><reeleGbnNm>\\xec\\xb4\\x88\\xec\\x84\\xa0</reeleGbnNm></item><item><deptCd>9771174</deptCd><empNm>\\xea\\xb0\\x95\\xeb\\x93\\x9d\\xea\\xb5\\xac</empNm><engNm>KANG DEUKGU</engNm><hjNm>\\xe5\\xa7\\x9c\\xe5\\xbe\\x97\\xe6\\xb1\\x82</hjNm><jpgLink>http://www.assembly.go.kr/photo/9771174.jpg</jpgLink><num>3092</num><origNm>\\xea\\xb2\\xbd\\xea\\xb8\\xb0 \\xec\\x95\\x88\\xec\\x96\\x91\\xec\\x8b\\x9c\\xeb\\xa7\\x8c\\xec\\x95\\x88\\xea\\xb5\\xac</origNm><reeleGbnNm>\\xec\\xb4\\x88\\xec\\x84\\xa0</reeleGbnNm></item><item><deptCd>9771233</deptCd><empNm>\\xea\\xb0\\x95\\xeb\\xaf\\xbc\\xea\\xb5\\xad</empNm><engNm>KANG MINKUK</engNm><hjNm>\\xe5\\xa7\\x9c\\xe6\\x97\\xbb\\xe5\\xb1\\x80</hjNm><jpgLink>http://www.assembly.go.kr/photo/9771233.jpg</jpgLink><num>3101</num><origNm>\\xea\\xb2\\xbd\\xeb\\x82\\xa8 \\xec\\xa7\\x84\\xec\\xa3\\xbc\\xec\\x8b\\x9c\\xec\\x9d\\x84</origNm><reeleGbnNm>\\xec\\xb4\\x88\\xec\\x84\\xa0</reeleGbnNm></item><item><deptCd>9771283</deptCd><empNm>\\xea\\xb0\\x95\\xeb\\xaf\\xbc\\xec\\xa0\\x95</empNm><engNm>KANG MINJUNG</engNm><hjNm>\\xe5\\xa7\\x9c\\xe6\\x97\\xbc\\xe5\\xa7\\x83</hjNm><jpgLink>http://www.assembly.go.kr/photo/9771283.jpg</jpgLink><num>3026</num><origNm>\\xeb\\xb9\\x84\\xeb\\xa1\\x80\\xeb\\x8c\\x80\\xed\\x91\\x9c</origNm><reeleGbnNm>\\xec\\xb4\\x88\\xec\\x84\\xa0</reeleGbnNm></item><item><deptCd>9770933</deptCd><empNm>\\xea\\xb0\\x95\\xeb\\xb3\\x91\\xec\\x9b\\x90</empNm><engNm>KANG BYUNGWON</engNm><hjNm>\\xe5\\xa7\\x9c\\xe7\\x82\\xb3\\xe9\\x81\\xa0</hjNm><jpgLink>http://www.assembly.go.kr/photo/9770933.jpg</jpgLink><num>2892</num><origNm>\\xec\\x84\\x9c\\xec\\x9a\\xb8 \\xec\\x9d\\x80\\xed\\x8f\\x89\\xea\\xb5\\xac\\xec\\x9d\\x84</origNm><reeleGbnNm>\\xec\\x9e\\xac\\xec\\x84\\xa0</reeleGbnNm></item><item><deptCd>9771116</deptCd><empNm>\\xea\\xb0\\x95\\xec\\x84\\xa0\\xec\\x9a\\xb0</empNm><engNm>KANG SUNWOO</engNm><hjNm>\\xe5\\xa7\\x9c\\xe4\\xbb\\x99\\xe7\\xa5\\x90</hjNm><jpgLink>http://www.assembly.go.kr/photo/9771116.jpg</jpgLink><num>3010</num><origNm>\\xec\\x84\\x9c\\xec\\x9a\\xb8 \\xea\\xb0\\x95\\xec\\x84\\x9c\\xea\\xb5\\xac\\xea\\xb0\\x91</origNm><reeleGbnNm>\\xec\\xb4\\x88\\xec\\x84\\xa0</reeleGbnNm></item><item><deptCd>9771303</deptCd><empNm>\\xea\\xb0\\x95\\xec\\x84\\xb1\\xed\\x9d\\xac</empNm><engNm>KANG SUNGHEE</engNm><hjNm>\\xe5\\xa7\\x9c\\xe8\\x81\\x96\\xe7\\x86\\x99</hjNm><jpgLink>http://www.assembly.go.kr/photo/9771303.jpg</jpgLink><num>2997</num><origNm>\\xec\\xa0\\x84\\xeb\\xb6\\x81 \\xec\\xa0\\x84\\xec\\xa3\\xbc\\xec\\x8b\\x9c\\xec\\x9d\\x84</origNm><reeleGbnNm>\\xec\\xb4\\x88\\xec\\x84\\xa0</reeleGbnNm></item><item><deptCd>9771276</deptCd><empNm>\\xea\\xb0\\x95\\xec\\x9d\\x80\\xeb\\xaf\\xb8</empNm><engNm>KANG EUNMI</engNm><hjNm>\\xe5\\xa7\\x9c\\xe6\\x81\\xa9\\xe7\\xbe\\x8e</hjNm><jpgLink>http://www.assembly.go.kr/photo/9771276.jpg</jpgLink><num>3040</num><origNm>\\xeb\\xb9\\x84\\xeb\\xa1\\x80\\xeb\\x8c\\x80\\xed\\x91\\x9c</origNm><reeleGbnNm>\\xec\\xb4\\x88\\xec\\x84\\xa0</reeleGbnNm></item><item><deptCd>9771168</deptCd><empNm>\\xea\\xb0\\x95\\xec\\xa4\\x80\\xed\\x98\\x84</empNm><engNm>KANG JUNHYEON</engNm><hjNm>\\xe5\\xba\\xb7\\xe6\\xba\\x96\\xe9\\x89\\x89</hjNm><jpgLink>http://www.assembly.go.kr/photo/9771168.jpg</jpgLink><num>3018</num><origNm>\\xec\\x84\\xb8\\xec\\xa2\\x85\\xed\\x8a\\xb9\\xeb\\xb3\\x84\\xec\\x9e\\x90\\xec\\xb9\\x98\\xec\\x8b\\x9c\\xec\\x9d\\x84</origNm><reeleGbnNm>\\xec\\xb4\\x88\\xec\\x84\\xa0</reeleGbnNm></item></items><numOfRows>10</numOfRows><pageNo>1</pageNo><totalCount>298</totalCount></body></response>'\n"
     ]
    }
   ],
   "source": [
    "import requests\n",
    "\n",
    "url = 'http://apis.data.go.kr/9710000/NationalAssemblyInfoService/getMemberCurrStateList'\n",
    "params ={'serviceKey' : 'UIEfJyc7xXieHfPlhZYVRXCZfP/mQUHaqTH71twI8cyJ/DHHJoOIGN9QitgmjD93PmldgHYnxvNd5H6kyU+jiw==', 'numOfRows' : '10', 'pageNo' : '1' }\n",
    "\n",
    "response = requests.get(url, params=params)\n",
    "print(response.content)"
   ]
  },
  {
   "cell_type": "code",
   "execution_count": 4,
   "metadata": {},
   "outputs": [
    {
     "name": "stdout",
     "output_type": "stream",
     "text": [
      "b'<?xml version=\"1.0\" encoding=\"UTF-8\"?><response>\\n<header>\\n<resultCode>00</resultCode>\\n<resultMsg>NORMAL SERVIE</resultMsg>\\n</header>\\n<body>\\n<items>\\n  <item>\\n    <dataId>BDM00000014759</dataId>\\n    <pdfFileNm>(\\xec\\x9d\\xb4\\xec\\x8a\\x88\\xec\\x99\\x80\\xeb\\x85\\xbc\\xec\\xa0\\x90 1360\\xed\\x98\\xb8-20170925)\\xe3\\x80\\x8c\\xec\\x86\\x8c\\xeb\\x85\\x84\\xeb\\xb2\\x95\\xe3\\x80\\x8d \\xea\\xb0\\x9c\\xec\\xa0\\x95 \\xeb\\x85\\xbc\\xec\\x9d\\x98\\xec\\x9d\\x98 \\xec\\x9f\\x81\\xec\\xa0\\x90.pdf</pdfFileNm>\\n    <pdfFileUrl>http://www.nars.go.kr/fileDownload2.do?doc_id=1LwoykF-Azl&amp;fileName=(%EC%9D%B4%EC%8A%88%EC%99%80%EB%85%BC%EC%A0%90%201360%ED%98%B8-20170925)%E3%80%8C%EC%86%8C%EB%85%84%EB%B2%95%E3%80%8D%20%EA%B0%9C%EC%A0%95%20%EB%85%BC%EC%9D%98%EC%9D%98%20%EC%9F%81%EC%A0%90.pdf</pdfFileUrl>\\n    <viewerUrl>http://drm.nars.go.kr:7003/sd/imageviewer?DocId=1LwoykF-Azl&amp;ViewerYn=Y&amp;EdmUserId=datauser&amp;type=S&amp;fileName=KOydtOyKiOyZgOuFvOygkCAxMzYw7Zi4LTIwMTcwOTI1KeOAjOyGjOuFhOuyleOAjSDqsJzsoJUg64W87J2Y7J2YIOyfgeygkC5wZGY%3D</viewerUrl>\\n    <divNm>\\xec\\x9d\\xb4\\xec\\x8a\\x88\\xec\\x99\\x80 \\xeb\\x85\\xbc\\xec\\xa0\\x90</divNm>\\n    <divCd>201010000</divCd>\\n    <bookNm>\\xe3\\x80\\x8c\\xec\\x86\\x8c\\xeb\\x85\\x84\\xeb\\xb2\\x95\\xe3\\x80\\x8d \\xea\\xb0\\x9c\\xec\\xa0\\x95 \\xeb\\x85\\xbc\\xec\\x9d\\x98\\xec\\x9d\\x98 \\xec\\x9f\\x81\\xec\\xa0\\x90</bookNm>\\n    <insertDt>2017-09-25</insertDt>\\n  </item>\\n</items>\\n<numOfRows>10</numOfRows>\\n<pageNo>1</pageNo>\\n<totalCount>1</totalCount>\\n</body>\\n</response>\\n'\n"
     ]
    }
   ],
   "source": [
    "import requests\n",
    "\n",
    "url = 'http://apis.data.go.kr/9735000/PublicationService/getResearchReportList'\n",
    "params ={'serviceKey' : 'UIEfJyc7xXieHfPlhZYVRXCZfP/mQUHaqTH71twI8cyJ/DHHJoOIGN9QitgmjD93PmldgHYnxvNd5H6kyU+jiw==', 'pageNo' : '1', 'numOfRows' : '10', 'resultType' : 'xml', 'div_cd' : '201010000', 'book_nm' : '「소년법」 개정 논의의 쟁점' }\n",
    "\n",
    "response = requests.get(url, params=params)\n",
    "print(response.content)"
   ]
  },
  {
   "cell_type": "code",
   "execution_count": null,
   "metadata": {},
   "outputs": [],
   "source": []
  }
 ],
 "metadata": {
  "kernelspec": {
   "display_name": "base",
   "language": "python",
   "name": "python3"
  },
  "language_info": {
   "codemirror_mode": {
    "name": "ipython",
    "version": 3
   },
   "file_extension": ".py",
   "mimetype": "text/x-python",
   "name": "python",
   "nbconvert_exporter": "python",
   "pygments_lexer": "ipython3",
   "version": "3.11.4"
  },
  "orig_nbformat": 4
 },
 "nbformat": 4,
 "nbformat_minor": 2
}
